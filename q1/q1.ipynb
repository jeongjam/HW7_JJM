{
 "cells": [
  {
   "cell_type": "code",
   "execution_count": 15,
   "id": "1bf0a097",
   "metadata": {},
   "outputs": [
    {
     "name": "stdout",
     "output_type": "stream",
     "text": [
      "Eigenvalues: [-0.37228132  5.37228132]\n",
      "Eigenvectors: [-0.82456484 -0.41597356] [ 0.56576746 -0.90937671]\n",
      "Determinant: -2.0000000000000004\n",
      "Cross product: [-3  6 -3]\n",
      "Solution:\n",
      "[[-1.]\n",
      " [-4.]\n",
      " [ 3.]]\n"
     ]
    }
   ],
   "source": [
    "import numpy as np\n",
    "\n",
    "\n",
    "def main():\n",
    "    array = np.array([[1,2],[3,4]])\n",
    "    w,v=np.linalg.eig(array)\n",
    "    det = np.linalg.det(array)\n",
    "    print(\"Eigenvalues:\",w)\n",
    "    print(\"Eigenvectors:\",v[0],v[1])\n",
    "    print(\"Determinant:\",det)\n",
    "    \n",
    "    vec1 = np.array([1,2,3])\n",
    "    vec2 = np.array([4,5,6])\n",
    "    result = np.cross(vec1, vec2)\n",
    "    print(\"Cross product:\",result)\n",
    "    \n",
    "    A = np.array([[1,2,-2],[2,1,-5],[1,-4,1]])\n",
    "    B = np.array([[-15],[-21],[18]])\n",
    "    x = np.linalg.solve(A,B)\n",
    "    print(\"Solution:\")\n",
    "    print(x)\n",
    "    \n",
    "if __name__==\"__main__\":\n",
    "    main()"
   ]
  },
  {
   "cell_type": "code",
   "execution_count": null,
   "id": "763dc5c6",
   "metadata": {},
   "outputs": [],
   "source": []
  },
  {
   "cell_type": "code",
   "execution_count": null,
   "id": "afdf4ec7",
   "metadata": {},
   "outputs": [],
   "source": []
  }
 ],
 "metadata": {
  "kernelspec": {
   "display_name": "Python 3 (ipykernel)",
   "language": "python",
   "name": "python3"
  },
  "language_info": {
   "codemirror_mode": {
    "name": "ipython",
    "version": 3
   },
   "file_extension": ".py",
   "mimetype": "text/x-python",
   "name": "python",
   "nbconvert_exporter": "python",
   "pygments_lexer": "ipython3",
   "version": "3.9.13"
  }
 },
 "nbformat": 4,
 "nbformat_minor": 5
}
