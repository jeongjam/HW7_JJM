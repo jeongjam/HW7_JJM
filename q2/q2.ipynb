{
 "cells": [
  {
   "cell_type": "code",
   "execution_count": 13,
   "id": "9cc90ad8",
   "metadata": {},
   "outputs": [
    {
     "name": "stdout",
     "output_type": "stream",
     "text": [
      "doc1= 0.58\n",
      "doc2= 0.87\n",
      "doc3= 0.67\n"
     ]
    }
   ],
   "source": [
    "import numpy as np\n",
    "\n",
    "def main():\n",
    "    doc = np.array([[1,1,0,1,0,1],[1,1,1,0,1,0],[1,1,0,1,0,0]])\n",
    "    query = np.array([1,1,0,0,1,0])\n",
    "    res1 = np.dot(doc[0],query)/(np.linalg.norm(doc[0])*np.linalg.norm(query))\n",
    "    res2 = np.dot(doc[1],query)/(np.linalg.norm(doc[1])*np.linalg.norm(query))\n",
    "    res3 = np.dot(doc[2],query)/(np.linalg.norm(doc[2])*np.linalg.norm(query))\n",
    "    print(\"doc1=\",round(res1,2))\n",
    "    print(\"doc2=\",round(res2,2))\n",
    "    print(\"doc3=\",round(res3,2))\n",
    "    \n",
    "if __name__==\"__main__\":\n",
    "    main()"
   ]
  },
  {
   "cell_type": "code",
   "execution_count": null,
   "id": "a0acf9e8",
   "metadata": {},
   "outputs": [],
   "source": []
  }
 ],
 "metadata": {
  "kernelspec": {
   "display_name": "Python 3 (ipykernel)",
   "language": "python",
   "name": "python3"
  },
  "language_info": {
   "codemirror_mode": {
    "name": "ipython",
    "version": 3
   },
   "file_extension": ".py",
   "mimetype": "text/x-python",
   "name": "python",
   "nbconvert_exporter": "python",
   "pygments_lexer": "ipython3",
   "version": "3.9.13"
  }
 },
 "nbformat": 4,
 "nbformat_minor": 5
}
